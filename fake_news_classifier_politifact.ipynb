{
  "nbformat": 4,
  "nbformat_minor": 0,
  "metadata": {
    "colab": {
      "name": "Fake_news_classifier_politifact_dataset.ipynb",
      "provenance": []
    },
    "kernelspec": {
      "name": "python3",
      "display_name": "Python 3"
    }
  },
  "cells": [
    {
      "cell_type": "code",
      "metadata": {
        "id": "YwI4zoBraZ09"
      },
      "source": [
        "import pandas as pd\n",
        "import numpy as np"
      ],
      "execution_count": null,
      "outputs": []
    },
    {
      "cell_type": "code",
      "metadata": {
        "id": "B7ZeUd4Aaf3_"
      },
      "source": [
        "df = pd.read_csv('/content/news_scrap_politify_dataset_final - news_scrap2.csv')"
      ],
      "execution_count": null,
      "outputs": []
    },
    {
      "cell_type": "code",
      "metadata": {
        "id": "YnBajtVEcSgD",
        "outputId": "1fd715ea-b5d0-409c-e4e4-f0aeee5f4804",
        "colab": {
          "base_uri": "https://localhost:8080/",
          "height": 141
        }
      },
      "source": [
        "df.head(3)"
      ],
      "execution_count": null,
      "outputs": [
        {
          "output_type": "execute_result",
          "data": {
            "text/html": [
              "<div>\n",
              "<style scoped>\n",
              "    .dataframe tbody tr th:only-of-type {\n",
              "        vertical-align: middle;\n",
              "    }\n",
              "\n",
              "    .dataframe tbody tr th {\n",
              "        vertical-align: top;\n",
              "    }\n",
              "\n",
              "    .dataframe thead th {\n",
              "        text-align: right;\n",
              "    }\n",
              "</style>\n",
              "<table border=\"1\" class=\"dataframe\">\n",
              "  <thead>\n",
              "    <tr style=\"text-align: right;\">\n",
              "      <th></th>\n",
              "      <th>News</th>\n",
              "      <th>Source / Said By</th>\n",
              "      <th>stated_on</th>\n",
              "      <th>Via</th>\n",
              "      <th>Writter</th>\n",
              "      <th>Published on</th>\n",
              "      <th>Classification</th>\n",
              "    </tr>\n",
              "  </thead>\n",
              "  <tbody>\n",
              "    <tr>\n",
              "      <th>0</th>\n",
              "      <td>During the debate, Kamala Harris said Presiden...</td>\n",
              "      <td>Republican Party of Florida</td>\n",
              "      <td>October 8, 2020</td>\n",
              "      <td>a tweet:</td>\n",
              "      <td>Amy Sherman</td>\n",
              "      <td>October 9, 2020</td>\n",
              "      <td>FALSE</td>\n",
              "    </tr>\n",
              "    <tr>\n",
              "      <th>1</th>\n",
              "      <td>The Commission on Presidential Debates wrote a...</td>\n",
              "      <td>Donald Trump</td>\n",
              "      <td>October 8, 2020</td>\n",
              "      <td>an</td>\n",
              "      <td>Samantha Putterman</td>\n",
              "      <td>October 9, 2020</td>\n",
              "      <td>FALSE</td>\n",
              "    </tr>\n",
              "    <tr>\n",
              "      <th>2</th>\n",
              "      <td>Twitter removed this tweet from Donald Trump: ...</td>\n",
              "      <td>Viral image</td>\n",
              "      <td>October 8, 2020</td>\n",
              "      <td>a Facebook post:</td>\n",
              "      <td>Ciara O'Rourke</td>\n",
              "      <td>October 9, 2020</td>\n",
              "      <td>pants-fire</td>\n",
              "    </tr>\n",
              "  </tbody>\n",
              "</table>\n",
              "</div>"
            ],
            "text/plain": [
              "                                                News  ... Classification\n",
              "0  During the debate, Kamala Harris said Presiden...  ...          FALSE\n",
              "1  The Commission on Presidential Debates wrote a...  ...          FALSE\n",
              "2  Twitter removed this tweet from Donald Trump: ...  ...     pants-fire\n",
              "\n",
              "[3 rows x 7 columns]"
            ]
          },
          "metadata": {
            "tags": []
          },
          "execution_count": 219
        }
      ]
    },
    {
      "cell_type": "code",
      "metadata": {
        "id": "UUTIT7AXeoSR",
        "outputId": "08edb6c0-a954-47cf-f73b-13be414d214f",
        "colab": {
          "base_uri": "https://localhost:8080/"
        }
      },
      "source": [
        "df.shape"
      ],
      "execution_count": null,
      "outputs": [
        {
          "output_type": "execute_result",
          "data": {
            "text/plain": [
              "(15624, 7)"
            ]
          },
          "metadata": {
            "tags": []
          },
          "execution_count": 220
        }
      ]
    },
    {
      "cell_type": "code",
      "metadata": {
        "id": "Qp1RDES-dFia",
        "outputId": "aafb5e8a-0cd0-4480-c2cf-f47f2ce92fcc",
        "colab": {
          "base_uri": "https://localhost:8080/"
        }
      },
      "source": [
        "df['Classification'].unique()"
      ],
      "execution_count": null,
      "outputs": [
        {
          "output_type": "execute_result",
          "data": {
            "text/plain": [
              "array(['FALSE', 'pants-fire', 'half-true', 'TRUE', 'full-flop',\n",
              "       'half-flip', 'no-flip'], dtype=object)"
            ]
          },
          "metadata": {
            "tags": []
          },
          "execution_count": 221
        }
      ]
    },
    {
      "cell_type": "code",
      "metadata": {
        "id": "c7Yrhh7ldPQQ",
        "outputId": "33c3ca52-0017-4412-e85d-bffca4213824",
        "colab": {
          "base_uri": "https://localhost:8080/"
        }
      },
      "source": [
        "#percentage of false news:\n",
        "len(df[df['Classification'] == 'FALSE']) / df.shape[0]"
      ],
      "execution_count": null,
      "outputs": [
        {
          "output_type": "execute_result",
          "data": {
            "text/plain": [
              "0.38242447516641065"
            ]
          },
          "metadata": {
            "tags": []
          },
          "execution_count": 222
        }
      ]
    },
    {
      "cell_type": "code",
      "metadata": {
        "id": "8TgBOdECfDP7",
        "outputId": "faa1c6c5-d49e-4f03-fc12-fb9bb5ccb00c",
        "colab": {
          "base_uri": "https://localhost:8080/"
        }
      },
      "source": [
        "len(df[df['Classification'] == 'pants-fire']) / df.shape[0]"
      ],
      "execution_count": null,
      "outputs": [
        {
          "output_type": "execute_result",
          "data": {
            "text/plain": [
              "0.11283922171018945"
            ]
          },
          "metadata": {
            "tags": []
          },
          "execution_count": 223
        }
      ]
    },
    {
      "cell_type": "code",
      "metadata": {
        "id": "Kf5oFC75fMfR",
        "outputId": "e45662b9-08ad-45f9-8a4f-82228250130c",
        "colab": {
          "base_uri": "https://localhost:8080/"
        }
      },
      "source": [
        "len(df[df['Classification'] == 'half-true']) / df.shape[0]"
      ],
      "execution_count": null,
      "outputs": [
        {
          "output_type": "execute_result",
          "data": {
            "text/plain": [
              "0.18522785458269328"
            ]
          },
          "metadata": {
            "tags": []
          },
          "execution_count": 224
        }
      ]
    },
    {
      "cell_type": "code",
      "metadata": {
        "id": "yl7GYQLGfRjJ",
        "outputId": "45d0521d-94ee-4d1a-cb48-399e95e9bb64",
        "colab": {
          "base_uri": "https://localhost:8080/"
        }
      },
      "source": [
        "len(df[df['Classification'] == 'TRUE']) / df.shape[0]"
      ],
      "execution_count": null,
      "outputs": [
        {
          "output_type": "execute_result",
          "data": {
            "text/plain": [
              "0.3058115719406042"
            ]
          },
          "metadata": {
            "tags": []
          },
          "execution_count": 225
        }
      ]
    },
    {
      "cell_type": "code",
      "metadata": {
        "id": "45WC3e7HfSME",
        "outputId": "2463f6ee-2f08-46bc-f24b-19487e89fee0",
        "colab": {
          "base_uri": "https://localhost:8080/"
        }
      },
      "source": [
        "len(df[df['Classification'] == 'full-flop']) / df.shape[0]"
      ],
      "execution_count": null,
      "outputs": [
        {
          "output_type": "execute_result",
          "data": {
            "text/plain": [
              "0.008768561187916026"
            ]
          },
          "metadata": {
            "tags": []
          },
          "execution_count": 226
        }
      ]
    },
    {
      "cell_type": "code",
      "metadata": {
        "id": "WeYa6NGTfS4X",
        "outputId": "e2649d68-8e26-4ed2-bddc-208903e9e741",
        "colab": {
          "base_uri": "https://localhost:8080/"
        }
      },
      "source": [
        "len(df[df['Classification'] == 'half-flip']) / df.shape[0]"
      ],
      "execution_count": null,
      "outputs": [
        {
          "output_type": "execute_result",
          "data": {
            "text/plain": [
              "0.0038402457757296467"
            ]
          },
          "metadata": {
            "tags": []
          },
          "execution_count": 227
        }
      ]
    },
    {
      "cell_type": "code",
      "metadata": {
        "id": "Wz3QjsISfUnw",
        "outputId": "ed73b6e0-13c8-4885-cd19-672c463fbc1d",
        "colab": {
          "base_uri": "https://localhost:8080/"
        }
      },
      "source": [
        "len(df[df['Classification'] == 'no-flip']) / df.shape[0]"
      ],
      "execution_count": null,
      "outputs": [
        {
          "output_type": "execute_result",
          "data": {
            "text/plain": [
              "0.0010880696364567333"
            ]
          },
          "metadata": {
            "tags": []
          },
          "execution_count": 228
        }
      ]
    },
    {
      "cell_type": "code",
      "metadata": {
        "id": "R2YU_EgmgBFs"
      },
      "source": [
        "df.replace(to_replace ='pants-fire', value = 'FALSE', inplace = True)"
      ],
      "execution_count": null,
      "outputs": []
    },
    {
      "cell_type": "code",
      "metadata": {
        "id": "k7OARk--lVcj"
      },
      "source": [
        "df.replace(to_replace =['full-flop', 'half-flip', 'no-flip'], value = 'rumors', inplace = True)"
      ],
      "execution_count": null,
      "outputs": []
    },
    {
      "cell_type": "code",
      "metadata": {
        "id": "kDUtQFqagfJe",
        "outputId": "f369b83c-2147-4423-a245-e6ebc2644260",
        "colab": {
          "base_uri": "https://localhost:8080/"
        }
      },
      "source": [
        "df['Classification'].unique()"
      ],
      "execution_count": null,
      "outputs": [
        {
          "output_type": "execute_result",
          "data": {
            "text/plain": [
              "array(['FALSE', 'half-true', 'TRUE', 'rumors'], dtype=object)"
            ]
          },
          "metadata": {
            "tags": []
          },
          "execution_count": 231
        }
      ]
    },
    {
      "cell_type": "code",
      "metadata": {
        "id": "3LjHhFYIl49L",
        "outputId": "e70f7a29-792d-4d42-c41e-4256ca16a443",
        "colab": {
          "base_uri": "https://localhost:8080/",
          "height": 336
        }
      },
      "source": [
        "import matplotlib.pyplot as plt\n",
        "fig = plt.figure()\n",
        "ax = fig.add_axes([0,0,1,1])\n",
        "x = ['FALSE', 'half-true', 'TRUE', 'rumors']\n",
        "y = [len(df[df['Classification'] == 'FALSE']), len(df[df['Classification'] == 'half-true']), \n",
        "              len(df[df['Classification'] == 'TRUE']), len(df[df['Classification'] == 'rumors'])]\n",
        "ax.bar(x,y)\n",
        "plt.show()"
      ],
      "execution_count": null,
      "outputs": [
        {
          "output_type": "display_data",
          "data": {
            "image/png": "[encoded data removed]",
            "text/plain": [
              "<Figure size 432x288 with 1 Axes>"
            ]
          },
          "metadata": {
            "tags": [],
            "needs_background": "light"
          }
        }
      ]
    },
    {
      "cell_type": "code",
      "metadata": {
        "id": "HBK__s9Vno40"
      },
      "source": [
        "df = df[df['Classification'] != 'rumors'] #dropping rumors still very low."
      ],
      "execution_count": null,
      "outputs": []
    },
    {
      "cell_type": "code",
      "metadata": {
        "id": "SuQCZzHzn1ZR",
        "outputId": "291dcb9c-c484-4bd1-bf7d-a18b86efb6c7",
        "colab": {
          "base_uri": "https://localhost:8080/"
        }
      },
      "source": [
        "df['Classification'].unique()"
      ],
      "execution_count": null,
      "outputs": [
        {
          "output_type": "execute_result",
          "data": {
            "text/plain": [
              "array(['FALSE', 'half-true', 'TRUE'], dtype=object)"
            ]
          },
          "metadata": {
            "tags": []
          },
          "execution_count": 234
        }
      ]
    },
    {
      "cell_type": "code",
      "metadata": {
        "id": "GwFxdNyiodLZ",
        "outputId": "dfbf5d29-7dfc-49bb-c15e-26924f4d7f05",
        "colab": {
          "base_uri": "https://localhost:8080/"
        }
      },
      "source": [
        "df.columns"
      ],
      "execution_count": null,
      "outputs": [
        {
          "output_type": "execute_result",
          "data": {
            "text/plain": [
              "Index(['News', 'Source / Said By', 'stated_on', 'Via', 'Writter',\n",
              "       'Published on', 'Classification'],\n",
              "      dtype='object')"
            ]
          },
          "metadata": {
            "tags": []
          },
          "execution_count": 235
        }
      ]
    },
    {
      "cell_type": "code",
      "metadata": {
        "id": "OnmNvcKHn-I0",
        "outputId": "0ca6542d-8304-4449-8176-307d39f406d8",
        "colab": {
          "base_uri": "https://localhost:8080/",
          "height": 172
        }
      },
      "source": [
        "df.head(4)"
      ],
      "execution_count": null,
      "outputs": [
        {
          "output_type": "execute_result",
          "data": {
            "text/html": [
              "<div>\n",
              "<style scoped>\n",
              "    .dataframe tbody tr th:only-of-type {\n",
              "        vertical-align: middle;\n",
              "    }\n",
              "\n",
              "    .dataframe tbody tr th {\n",
              "        vertical-align: top;\n",
              "    }\n",
              "\n",
              "    .dataframe thead th {\n",
              "        text-align: right;\n",
              "    }\n",
              "</style>\n",
              "<table border=\"1\" class=\"dataframe\">\n",
              "  <thead>\n",
              "    <tr style=\"text-align: right;\">\n",
              "      <th></th>\n",
              "      <th>News</th>\n",
              "      <th>Source / Said By</th>\n",
              "      <th>stated_on</th>\n",
              "      <th>Via</th>\n",
              "      <th>Writter</th>\n",
              "      <th>Published on</th>\n",
              "      <th>Classification</th>\n",
              "    </tr>\n",
              "  </thead>\n",
              "  <tbody>\n",
              "    <tr>\n",
              "      <th>0</th>\n",
              "      <td>During the debate, Kamala Harris said Presiden...</td>\n",
              "      <td>Republican Party of Florida</td>\n",
              "      <td>October 8, 2020</td>\n",
              "      <td>a tweet:</td>\n",
              "      <td>Amy Sherman</td>\n",
              "      <td>October 9, 2020</td>\n",
              "      <td>FALSE</td>\n",
              "    </tr>\n",
              "    <tr>\n",
              "      <th>1</th>\n",
              "      <td>The Commission on Presidential Debates wrote a...</td>\n",
              "      <td>Donald Trump</td>\n",
              "      <td>October 8, 2020</td>\n",
              "      <td>an</td>\n",
              "      <td>Samantha Putterman</td>\n",
              "      <td>October 9, 2020</td>\n",
              "      <td>FALSE</td>\n",
              "    </tr>\n",
              "    <tr>\n",
              "      <th>2</th>\n",
              "      <td>Twitter removed this tweet from Donald Trump: ...</td>\n",
              "      <td>Viral image</td>\n",
              "      <td>October 8, 2020</td>\n",
              "      <td>a Facebook post:</td>\n",
              "      <td>Ciara O'Rourke</td>\n",
              "      <td>October 9, 2020</td>\n",
              "      <td>FALSE</td>\n",
              "    </tr>\n",
              "    <tr>\n",
              "      <th>3</th>\n",
              "      <td>When Sara Gideon “knew the truth about” sexual...</td>\n",
              "      <td>National Republican Senatorial Committee</td>\n",
              "      <td>October 6, 2020</td>\n",
              "      <td>an ad:</td>\n",
              "      <td>Tom Kertscher</td>\n",
              "      <td>October 9, 2020</td>\n",
              "      <td>FALSE</td>\n",
              "    </tr>\n",
              "  </tbody>\n",
              "</table>\n",
              "</div>"
            ],
            "text/plain": [
              "                                                News  ... Classification\n",
              "0  During the debate, Kamala Harris said Presiden...  ...          FALSE\n",
              "1  The Commission on Presidential Debates wrote a...  ...          FALSE\n",
              "2  Twitter removed this tweet from Donald Trump: ...  ...          FALSE\n",
              "3  When Sara Gideon “knew the truth about” sexual...  ...          FALSE\n",
              "\n",
              "[4 rows x 7 columns]"
            ]
          },
          "metadata": {
            "tags": []
          },
          "execution_count": 236
        }
      ]
    },
    {
      "cell_type": "code",
      "metadata": {
        "id": "ks0UbnGEoNWQ"
      },
      "source": [
        "df.drop(['Source / Said By', 'Via', 'Source / Said By', 'stated_on', 'Writter', 'Published on'], axis = 1, inplace = True)"
      ],
      "execution_count": null,
      "outputs": []
    },
    {
      "cell_type": "code",
      "metadata": {
        "id": "5vObZEFQo1Sy",
        "outputId": "66082805-f0a1-4663-a712-640bcef2cc6a",
        "colab": {
          "base_uri": "https://localhost:8080/",
          "height": 202
        }
      },
      "source": [
        "df.head(5)"
      ],
      "execution_count": null,
      "outputs": [
        {
          "output_type": "execute_result",
          "data": {
            "text/html": [
              "<div>\n",
              "<style scoped>\n",
              "    .dataframe tbody tr th:only-of-type {\n",
              "        vertical-align: middle;\n",
              "    }\n",
              "\n",
              "    .dataframe tbody tr th {\n",
              "        vertical-align: top;\n",
              "    }\n",
              "\n",
              "    .dataframe thead th {\n",
              "        text-align: right;\n",
              "    }\n",
              "</style>\n",
              "<table border=\"1\" class=\"dataframe\">\n",
              "  <thead>\n",
              "    <tr style=\"text-align: right;\">\n",
              "      <th></th>\n",
              "      <th>News</th>\n",
              "      <th>Classification</th>\n",
              "    </tr>\n",
              "  </thead>\n",
              "  <tbody>\n",
              "    <tr>\n",
              "      <th>0</th>\n",
              "      <td>During the debate, Kamala Harris said Presiden...</td>\n",
              "      <td>FALSE</td>\n",
              "    </tr>\n",
              "    <tr>\n",
              "      <th>1</th>\n",
              "      <td>The Commission on Presidential Debates wrote a...</td>\n",
              "      <td>FALSE</td>\n",
              "    </tr>\n",
              "    <tr>\n",
              "      <th>2</th>\n",
              "      <td>Twitter removed this tweet from Donald Trump: ...</td>\n",
              "      <td>FALSE</td>\n",
              "    </tr>\n",
              "    <tr>\n",
              "      <th>3</th>\n",
              "      <td>When Sara Gideon “knew the truth about” sexual...</td>\n",
              "      <td>FALSE</td>\n",
              "    </tr>\n",
              "    <tr>\n",
              "      <th>4</th>\n",
              "      <td>Says “Property crime rising in Austin. This is...</td>\n",
              "      <td>FALSE</td>\n",
              "    </tr>\n",
              "  </tbody>\n",
              "</table>\n",
              "</div>"
            ],
            "text/plain": [
              "                                                News Classification\n",
              "0  During the debate, Kamala Harris said Presiden...          FALSE\n",
              "1  The Commission on Presidential Debates wrote a...          FALSE\n",
              "2  Twitter removed this tweet from Donald Trump: ...          FALSE\n",
              "3  When Sara Gideon “knew the truth about” sexual...          FALSE\n",
              "4  Says “Property crime rising in Austin. This is...          FALSE"
            ]
          },
          "metadata": {
            "tags": []
          },
          "execution_count": 238
        }
      ]
    },
    {
      "cell_type": "code",
      "metadata": {
        "id": "w9O_pi5rrULR",
        "outputId": "8630b94c-1bc1-4a13-c370-6f78d2348de3",
        "colab": {
          "base_uri": "https://localhost:8080/"
        }
      },
      "source": [
        "df.isnull().sum()"
      ],
      "execution_count": null,
      "outputs": [
        {
          "output_type": "execute_result",
          "data": {
            "text/plain": [
              "News              0\n",
              "Classification    0\n",
              "dtype: int64"
            ]
          },
          "metadata": {
            "tags": []
          },
          "execution_count": 239
        }
      ]
    },
    {
      "cell_type": "code",
      "metadata": {
        "id": "G8gC_j_OrcDc"
      },
      "source": [
        "df.reset_index(drop = True, inplace = True)"
      ],
      "execution_count": null,
      "outputs": []
    },
    {
      "cell_type": "code",
      "metadata": {
        "id": "-xPW8y-vwY2V",
        "outputId": "894d2029-1dbd-4d24-92bd-cfb24a4eaa46",
        "colab": {
          "base_uri": "https://localhost:8080/",
          "height": 416
        }
      },
      "source": [
        "df"
      ],
      "execution_count": null,
      "outputs": [
        {
          "output_type": "execute_result",
          "data": {
            "text/html": [
              "<div>\n",
              "<style scoped>\n",
              "    .dataframe tbody tr th:only-of-type {\n",
              "        vertical-align: middle;\n",
              "    }\n",
              "\n",
              "    .dataframe tbody tr th {\n",
              "        vertical-align: top;\n",
              "    }\n",
              "\n",
              "    .dataframe thead th {\n",
              "        text-align: right;\n",
              "    }\n",
              "</style>\n",
              "<table border=\"1\" class=\"dataframe\">\n",
              "  <thead>\n",
              "    <tr style=\"text-align: right;\">\n",
              "      <th></th>\n",
              "      <th>News</th>\n",
              "      <th>Classification</th>\n",
              "    </tr>\n",
              "  </thead>\n",
              "  <tbody>\n",
              "    <tr>\n",
              "      <th>0</th>\n",
              "      <td>During the debate, Kamala Harris said Presiden...</td>\n",
              "      <td>FALSE</td>\n",
              "    </tr>\n",
              "    <tr>\n",
              "      <th>1</th>\n",
              "      <td>The Commission on Presidential Debates wrote a...</td>\n",
              "      <td>FALSE</td>\n",
              "    </tr>\n",
              "    <tr>\n",
              "      <th>2</th>\n",
              "      <td>Twitter removed this tweet from Donald Trump: ...</td>\n",
              "      <td>FALSE</td>\n",
              "    </tr>\n",
              "    <tr>\n",
              "      <th>3</th>\n",
              "      <td>When Sara Gideon “knew the truth about” sexual...</td>\n",
              "      <td>FALSE</td>\n",
              "    </tr>\n",
              "    <tr>\n",
              "      <th>4</th>\n",
              "      <td>Says “Property crime rising in Austin. This is...</td>\n",
              "      <td>FALSE</td>\n",
              "    </tr>\n",
              "    <tr>\n",
              "      <th>...</th>\n",
              "      <td>...</td>\n",
              "      <td>...</td>\n",
              "    </tr>\n",
              "    <tr>\n",
              "      <th>15405</th>\n",
              "      <td>Palin \"fired Wasilla's Police Chief because he...</td>\n",
              "      <td>TRUE</td>\n",
              "    </tr>\n",
              "    <tr>\n",
              "      <th>15406</th>\n",
              "      <td>\"While Sarah was Mayor of Wasilla she tried to...</td>\n",
              "      <td>half-true</td>\n",
              "    </tr>\n",
              "    <tr>\n",
              "      <th>15407</th>\n",
              "      <td>Palin \"stopped the Bridge to Nowhere.\"</td>\n",
              "      <td>FALSE</td>\n",
              "    </tr>\n",
              "    <tr>\n",
              "      <th>15408</th>\n",
              "      <td>John McCain's tax plan will give no reduction ...</td>\n",
              "      <td>half-true</td>\n",
              "    </tr>\n",
              "    <tr>\n",
              "      <th>15409</th>\n",
              "      <td>\"The average American family\" saw income rise ...</td>\n",
              "      <td>half-true</td>\n",
              "    </tr>\n",
              "  </tbody>\n",
              "</table>\n",
              "<p>15410 rows × 2 columns</p>\n",
              "</div>"
            ],
            "text/plain": [
              "                                                    News Classification\n",
              "0      During the debate, Kamala Harris said Presiden...          FALSE\n",
              "1      The Commission on Presidential Debates wrote a...          FALSE\n",
              "2      Twitter removed this tweet from Donald Trump: ...          FALSE\n",
              "3      When Sara Gideon “knew the truth about” sexual...          FALSE\n",
              "4      Says “Property crime rising in Austin. This is...          FALSE\n",
              "...                                                  ...            ...\n",
              "15405  Palin \"fired Wasilla's Police Chief because he...           TRUE\n",
              "15406  \"While Sarah was Mayor of Wasilla she tried to...      half-true\n",
              "15407             Palin \"stopped the Bridge to Nowhere.\"          FALSE\n",
              "15408  John McCain's tax plan will give no reduction ...      half-true\n",
              "15409  \"The average American family\" saw income rise ...      half-true\n",
              "\n",
              "[15410 rows x 2 columns]"
            ]
          },
          "metadata": {
            "tags": []
          },
          "execution_count": 241
        }
      ]
    },
    {
      "cell_type": "code",
      "metadata": {
        "id": "93OMP_zXwYwK",
        "outputId": "8f3dc716-3f25-4684-a182-0f81ddc82499",
        "colab": {
          "base_uri": "https://localhost:8080/"
        }
      },
      "source": [
        "import re\n",
        "import nltk\n",
        "nltk.download('stopwords')\n",
        "from nltk.corpus import stopwords\n",
        "from nltk.stem.porter import PorterStemmer"
      ],
      "execution_count": null,
      "outputs": [
        {
          "output_type": "stream",
          "text": [
            "[nltk_data] Downloading package stopwords to /root/nltk_data...\n",
            "[nltk_data]   Package stopwords is already up-to-date!\n"
          ],
          "name": "stdout"
        }
      ]
    },
    {
      "cell_type": "code",
      "metadata": {
        "id": "8kc4Pq6t05Tv"
      },
      "source": [
        "ps = PorterStemmer()\n",
        "corpus = []\n",
        "for i in range(0, len(df)):\n",
        "  news = re.sub('[^a-zA-z]', ' ', df['News'][i])\n",
        "  news = news.lower()\n",
        "  news = news.split()\n",
        "\n",
        "  news = [ps.stem(word) for word in news if not word in stopwords.words('english')]\n",
        "  news = ' '.join(news)\n",
        "  corpus.append(news)"
      ],
      "execution_count": null,
      "outputs": []
    },
    {
      "cell_type": "code",
      "metadata": {
        "id": "ZmGy04UH6p1_"
      },
      "source": [
        "X = df['News']\n",
        "y = df['Classification']"
      ],
      "execution_count": null,
      "outputs": []
    },
    {
      "cell_type": "code",
      "metadata": {
        "id": "gCPFwZ_39jcm"
      },
      "source": [
        "from sklearn import preprocessing\n",
        "label_encoder = preprocessing.LabelEncoder()\n",
        "df['Classification'] = label_encoder.fit_transform(df['Classification'])"
      ],
      "execution_count": null,
      "outputs": []
    },
    {
      "cell_type": "code",
      "metadata": {
        "id": "Hly9nZYv-K5L",
        "outputId": "6c80acea-bb4e-491c-db1d-0ec5b214569d",
        "colab": {
          "base_uri": "https://localhost:8080/"
        }
      },
      "source": [
        "df['Classification']"
      ],
      "execution_count": null,
      "outputs": [
        {
          "output_type": "execute_result",
          "data": {
            "text/plain": [
              "0        0\n",
              "1        0\n",
              "2        0\n",
              "3        0\n",
              "4        0\n",
              "        ..\n",
              "15405    1\n",
              "15406    2\n",
              "15407    0\n",
              "15408    2\n",
              "15409    2\n",
              "Name: Classification, Length: 15410, dtype: int64"
            ]
          },
          "metadata": {
            "tags": []
          },
          "execution_count": 246
        }
      ]
    },
    {
      "cell_type": "code",
      "metadata": {
        "id": "sgqtML9D6FVc"
      },
      "source": [
        "from sklearn.feature_extraction.text import CountVectorizer\n",
        "cv = CountVectorizer(max_features = 5000, ngram_range = (1,3))\n",
        "X = cv.fit_transform(corpus).toarray()"
      ],
      "execution_count": null,
      "outputs": []
    },
    {
      "cell_type": "code",
      "metadata": {
        "id": "JzokfhbZ8X-W",
        "outputId": "0f9d86a2-d6c3-4f74-a729-72c341cddb06",
        "colab": {
          "base_uri": "https://localhost:8080/"
        }
      },
      "source": [
        "cv.get_feature_names()[:15]"
      ],
      "execution_count": null,
      "outputs": [
        {
          "output_type": "execute_result",
          "data": {
            "text/plain": [
              "['abbott',\n",
              " 'abel',\n",
              " 'abid',\n",
              " 'abil',\n",
              " 'abl',\n",
              " 'abolish',\n",
              " 'abort',\n",
              " 'abort even',\n",
              " 'abort even case',\n",
              " 'abraham',\n",
              " 'abraham lincoln',\n",
              " 'absente',\n",
              " 'absolut',\n",
              " 'abus',\n",
              " 'academi']"
            ]
          },
          "metadata": {
            "tags": []
          },
          "execution_count": 248
        }
      ]
    },
    {
      "cell_type": "code",
      "metadata": {
        "id": "BJi33QLi7-4d"
      },
      "source": [
        "from sklearn.model_selection import train_test_split\n",
        "X_train, X_test, y_train, y_test = train_test_split(X, y, test_size = 0.25, random_state = 0)"
      ],
      "execution_count": null,
      "outputs": []
    },
    {
      "cell_type": "code",
      "metadata": {
        "id": "DzKkC4Bn_LLo"
      },
      "source": [
        "from sklearn.naive_bayes import MultinomialNB\n",
        "clf = MultinomialNB().fit(X_train, y_train)"
      ],
      "execution_count": null,
      "outputs": []
    },
    {
      "cell_type": "code",
      "metadata": {
        "id": "s2kAL2cDDKh9"
      },
      "source": [
        "y_pred = clf.predict(X_test)"
      ],
      "execution_count": null,
      "outputs": []
    },
    {
      "cell_type": "code",
      "metadata": {
        "id": "3uA7OSn1EgWs",
        "outputId": "8b84a32c-cd15-4dbe-9759-f1a9614d9048",
        "colab": {
          "base_uri": "https://localhost:8080/"
        }
      },
      "source": [
        "from sklearn.metrics import accuracy_score\n",
        "accuracy_score(y_test, y_pred)"
      ],
      "execution_count": null,
      "outputs": [
        {
          "output_type": "execute_result",
          "data": {
            "text/plain": [
              "0.5162211263950168"
            ]
          },
          "metadata": {
            "tags": []
          },
          "execution_count": 254
        }
      ]
    },
    {
      "cell_type": "code",
      "metadata": {
        "id": "iNm0eyssE-ZZ",
        "outputId": "a2770f1b-f41d-48fa-90ab-f6936149f54c",
        "colab": {
          "base_uri": "https://localhost:8080/"
        }
      },
      "source": [
        "from sklearn.metrics import f1_score\n",
        "f1_score(y_test, y_pred, average = 'weighted')"
      ],
      "execution_count": null,
      "outputs": [
        {
          "output_type": "execute_result",
          "data": {
            "text/plain": [
              "0.5094494934065954"
            ]
          },
          "metadata": {
            "tags": []
          },
          "execution_count": 259
        }
      ]
    },
    {
      "cell_type": "code",
      "metadata": {
        "id": "XPcSPtXxFxw3",
        "outputId": "441cdf16-91d7-447c-fd38-12b47797038f",
        "colab": {
          "base_uri": "https://localhost:8080/"
        }
      },
      "source": [
        "from sklearn.metrics import confusion_matrix\n",
        "confusion_matrix(y_test, y_pred)"
      ],
      "execution_count": null,
      "outputs": [
        {
          "output_type": "execute_result",
          "data": {
            "text/plain": [
              "array([[1255,  459,  229],\n",
              "       [ 428,  594,  162],\n",
              "       [ 285,  301,  140]])"
            ]
          },
          "metadata": {
            "tags": []
          },
          "execution_count": 258
        }
      ]
    }
  ]
}